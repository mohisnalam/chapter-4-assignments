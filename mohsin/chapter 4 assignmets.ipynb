{
 "cells": [
  {
   "cell_type": "code",
   "execution_count": 5,
   "metadata": {},
   "outputs": [
    {
     "name": "stdout",
     "output_type": "stream",
     "text": [
      "2, 3, 4, 6, 8, 9, 10, 12, 14, 15, 16, "
     ]
    }
   ],
   "source": [
    "##4.1\n",
    "def even(n):\n",
    "    for i in range(2, n+1):\n",
    "        if i%2 == 0 or i%3 == 0: \n",
    "            print(i, end=', ') \n",
    "even(17)"
   ]
  },
  {
   "cell_type": "code",
   "execution_count": 12,
   "metadata": {},
   "outputs": [
    {
     "data": {
      "text/plain": [
       "('234', '78', '234', '78', '789', '789')"
      ]
     },
     "execution_count": 12,
     "metadata": {},
     "output_type": "execute_result"
    }
   ],
   "source": [
    "##4.2\n",
    "s =\"0123456789\"\n",
    "s[2:5],s[7:9],s[2:5],s[7:9],s[7:],s[-3:]"
   ]
  },
  {
   "cell_type": "code",
   "execution_count": 13,
   "metadata": {},
   "outputs": [
    {
     "name": "stdout",
     "output_type": "stream",
     "text": [
      "occurance : 2\n",
      "number : 13\n",
      "After replacement: It will be a cloudy day today\n"
     ]
    }
   ],
   "source": [
    "##4.3\n",
    "forecast=(\"It will be a sunny day today\")\n",
    "count=forecast.count('day')\n",
    "weather=forecast.find('sunny')\n",
    "change=forecast.replace('sunny','cloudy')\n",
    "print(\"occurance :\",count)\n",
    "print(\"number :\",weather)\n",
    "print(\"After replacement:\",change)"
   ]
  },
  {
   "cell_type": "code",
   "execution_count": 58,
   "metadata": {},
   "outputs": [
    {
     "name": "stdout",
     "output_type": "stream",
     "text": [
      "<built-in method format of str object at 0x000000845B0E2120> ('mohsin', 'Alam', '03128491915', 'gulberg town', 'karachi', 'pakistan', '7459')\n"
     ]
    }
   ],
   "source": [
    "##4.5\n",
    "first=(\"mohsin\")\n",
    "last=(\"Alam\")\n",
    "number=(\"03128491915\")\n",
    "city=(\"karachi\")\n",
    "street=(\"gulberg town\")\n",
    "state=(\"pakistan\")\n",
    "zipcode=(\"7459\")\n",
    "fstring = '{} {} \\n{} {} \\n{}, {} {}' \n",
    "print(fstring.format,(first,last,number,street,city,state,zipcode)) "
   ]
  },
  {
   "cell_type": "code",
   "execution_count": 55,
   "metadata": {},
   "outputs": [
    {
     "data": {
      "text/plain": [
       "'01:15 AM Pacific Standard Time Central Daylight Time on 12/04/2019'"
      ]
     },
     "execution_count": 55,
     "metadata": {},
     "output_type": "execute_result"
    }
   ],
   "source": [
    "##4.6\n",
    "import time\n",
    "time.localtime()\n",
    "\n",
    "time.strftime('%I:%M %p %Z Central Daylight Time on %m/%d/%Y', time.localtime()) "
   ]
  },
  {
   "cell_type": "code",
   "execution_count": 56,
   "metadata": {},
   "outputs": [
    {
     "data": {
      "text/plain": [
       "'Wednesday Dec/04/19 01:16 AM'"
      ]
     },
     "execution_count": 56,
     "metadata": {},
     "output_type": "execute_result"
    }
   ],
   "source": [
    "##4.7\n",
    "time.strftime('%A %b/%d/%y %I:%M %p', time.localtime())"
   ]
  },
  {
   "cell_type": "code",
   "execution_count": 57,
   "metadata": {},
   "outputs": [
    {
     "data": {
      "text/plain": [
       "'I will meet you on Wed December 04 at 01:16 AM.'"
      ]
     },
     "execution_count": 57,
     "metadata": {},
     "output_type": "execute_result"
    }
   ],
   "source": [
    "##4.8\n",
    "time.strftime('I will meet you on %a %B %d at %I:%M %p.',time.localtime() )"
   ]
  },
  {
   "cell_type": "code",
   "execution_count": 3,
   "metadata": {},
   "outputs": [
    {
     "name": "stdout",
     "output_type": "stream",
     "text": [
      "i      i**2     i**3   2**i\n",
      "1\t1\t1\t2\n",
      "2\t4\t8\t4\n",
      "3\t9\t27\t8\n",
      "4\t16\t64\t16\n",
      "5\t25\t125\t32\n",
      "6\t36\t216\t64\n",
      "7\t49\t343\t128\n",
      "8\t64\t512\t256\n",
      "9\t81\t729\t512\n",
      "10\t100\t1000\t1024\n",
      "11\t121\t1331\t2048\n",
      "12\t144\t1728\t4096\n"
     ]
    }
   ],
   "source": [
    "##4.9\n",
    "print(\"i      i**2     i**3   2**i\" ) \n",
    "for i in range(1,13):\n",
    "    print(i, i**2, i**3, 2**i, sep=\"\\t\")"
   ]
  },
  {
   "cell_type": "code",
   "execution_count": 12,
   "metadata": {},
   "outputs": [
    {
     "data": {
      "text/plain": [
       "'The 3 lines in this file end with the new line character. \\n \\nThere is a blank line above this line. '"
      ]
     },
     "execution_count": 12,
     "metadata": {},
     "output_type": "execute_result"
    }
   ],
   "source": [
    "##4.10\n",
    "infile=open('mohsin.txt')\n",
    "infile.read()\n",
    "infile.close"
   ]
  },
  {
   "cell_type": "code",
   "execution_count": 46,
   "metadata": {},
   "outputs": [
    {
     "data": {
      "text/plain": [
       "100"
      ]
     },
     "execution_count": 46,
     "metadata": {},
     "output_type": "execute_result"
    }
   ],
   "source": [
    "##4.11\n",
    "def numChars(mohsin): \n",
    "    infile = open(mohsin, 'r') \n",
    "    content = infile.read() \n",
    "    infile.close() \n",
    "    return len(content)\n",
    "numChars('mohsin.txt')"
   ]
  },
  {
   "cell_type": "code",
   "execution_count": 53,
   "metadata": {},
   "outputs": [
    {
     "name": "stdout",
     "output_type": "stream",
     "text": [
      "['The', '3', 'lines', 'in', 'this', 'file', 'end', 'with', 'the', 'new', 'line', 'character.', 'There', 'is', 'a', 'blank', 'line', 'above', 'this', 'line.']\n"
     ]
    },
    {
     "data": {
      "text/plain": [
       "20"
      ]
     },
     "execution_count": 53,
     "metadata": {},
     "output_type": "execute_result"
    }
   ],
   "source": [
    "##4.12\n",
    "def numwords(mohsin): \n",
    "    infile = open(mohsin, 'r') \n",
    "    content = infile.read() \n",
    "    infile.close()\n",
    "    \n",
    "    wordlist=content.split()\n",
    "    print(wordlist)\n",
    "    return len(wordlist)\n",
    "numwords('mohsin.txt')"
   ]
  },
  {
   "cell_type": "code",
   "execution_count": 55,
   "metadata": {},
   "outputs": [
    {
     "name": "stdout",
     "output_type": "stream",
     "text": [
      "The 3 lines in this file end with the new line character. \n",
      " \n",
      "There is a blank line above this line. \n"
     ]
    },
    {
     "data": {
      "text/plain": [
       "100"
      ]
     },
     "execution_count": 55,
     "metadata": {},
     "output_type": "execute_result"
    }
   ],
   "source": [
    "##4.13\n",
    "def linewords(mohsin): \n",
    "    infile = open(mohsin, 'r') \n",
    "    linelist = infile.read() \n",
    "    infile.close()\n",
    "    \n",
    "    print(linelist)\n",
    "    return len(linelist)\n",
    "linewords('mohsin.txt')"
   ]
  },
  {
   "cell_type": "code",
   "execution_count": 67,
   "metadata": {},
   "outputs": [
    {
     "name": "stdout",
     "output_type": "stream",
     "text": [
      "Last      First      Class     AverageGrade\n",
      "DeMoines  Jim       Sophomore      3.45\n",
      "Pierre    Sophie    Sophomore      4.00\n",
      "Columbus  Maria     Senior         2.50\n",
      "Phoenix   River     Junior         2.45\n",
      "Olympis   Edgar     Junior         3.99\n"
     ]
    }
   ],
   "source": [
    "##4.14\n",
    "students = [] \n",
    "students.append(['DeMoines', 'Jim', 'Sophomore', 3.45])\n",
    "students.append(['Pierre', 'Sophie', 'Sophomore', 4.0])\n",
    "students.append(['Columbus', 'Maria', 'Senior', 2.5]) \n",
    "students.append(['Phoenix', 'River', 'Junior', 2.45])\n",
    "students.append(['Olympis', 'Edgar', 'Junior', 3.99])\n",
    "print('Last      First      Class     AverageGrade')\n",
    "for student in students:\n",
    "    print('{:10}{:10}{:10} {:8.2f}'.format(student[0],student[1], student[2], student[3]))"
   ]
  },
  {
   "cell_type": "code",
   "execution_count": 72,
   "metadata": {},
   "outputs": [
    {
     "data": {
      "text/plain": [
       "['THE',\n",
       " '3',\n",
       " 'LINES',\n",
       " 'IN',\n",
       " 'THIS',\n",
       " 'FILE',\n",
       " 'END',\n",
       " 'WITH',\n",
       " 'THE',\n",
       " 'NEW',\n",
       " 'LINE',\n",
       " 'CHARACTER',\n",
       " 'THERE',\n",
       " 'IS',\n",
       " 'A',\n",
       " 'BLANK',\n",
       " 'LINE',\n",
       " 'ABOVE',\n",
       " 'THIS',\n",
       " 'LINE']"
      ]
     },
     "execution_count": 72,
     "metadata": {},
     "output_type": "execute_result"
    }
   ],
   "source": [
    "##4.15\n",
    "def words(mohsin):\n",
    "    'returns the list of words in file filename' \n",
    "    infile = open(mohsin, 'r')\n",
    "    content = infile.read() \n",
    "    infile.close() \n",
    "    table = str.maketrans('!,.:;?', 6*' ')\n",
    "    content=content.translate(table)\n",
    "    content=content.upper()\n",
    "    return content.split() \n",
    "words('mohsin.txt')"
   ]
  },
  {
   "cell_type": "code",
   "execution_count": 75,
   "metadata": {},
   "outputs": [
    {
     "name": "stdout",
     "output_type": "stream",
     "text": [
      "The 3 lines in this file end with the new line character. \n",
      "There is a blank line above this line. "
     ]
    }
   ],
   "source": [
    "##4.16\n",
    "def myGrep(mohsin, target): \n",
    "    'prints every line of file filename containing string target' \n",
    "    infile = open(mohsin) \n",
    "    for line in infile: \n",
    "        if target in line: \n",
    "            print(line, end='') \n",
    "myGrep('mohsin.txt','line')"
   ]
  },
  {
   "cell_type": "code",
   "execution_count": 87,
   "metadata": {},
   "outputs": [
    {
     "name": "stdout",
     "output_type": "stream",
     "text": [
      "1) abc\n",
      "2) bcd\n",
      "3) defghijklmnopqrstuvwx\n",
      "4) wxyz\n"
     ]
    }
   ],
   "source": [
    "##4.17\n",
    "s = 'abcdefghijklmnopqrstuvwxyz'\n",
    "print(\"1)\",s[0:3])\n",
    "print(\"2)\",s[1:4])\n",
    "print(\"3)\",s[3:-2])\n",
    "print(\"4)\",s[-4:27])"
   ]
  },
  {
   "cell_type": "code",
   "execution_count": 14,
   "metadata": {},
   "outputs": [
    {
     "name": "stdout",
     "output_type": "stream",
     "text": [
      "a),10,20,30,40,50\n",
      "b)%10%20%30%40%50\n",
      "c) 10 20 30 40 50\n",
      "d)-10-20-30-40-50\n"
     ]
    }
   ],
   "source": [
    "##4.18\n",
    "print('a)', 10, 20, 30 ,40, 50,sep=\",\")\n",
    "print('b)', 10, 20, 30 ,40, 50,sep=\"%\")\n",
    "print('c)', 10, 20, 30 ,40, 50,sep=\" \")\n",
    "print('d)', 10, 20, 30 ,40, 50,sep=\"-\")"
   ]
  },
  {
   "cell_type": "code",
   "execution_count": 20,
   "metadata": {},
   "outputs": [
    {
     "name": "stdout",
     "output_type": "stream",
     "text": [
      "Enter the first name : mohsin\n",
      "Enter the second name : alam\n",
      "Enter the third name : tesheen\n",
      "False\n"
     ]
    }
   ],
   "source": [
    "##4.19\n",
    "word1=str(input(\"Enter the first name : \"))\n",
    "word2=str(input(\"Enter the second name : \"))\n",
    "word3=str(input(\"Enter the third name : \"))\n",
    "if word1<word2 and word2<word3:\n",
    "    print(Ture)\n",
    "else:\n",
    "    print(False)"
   ]
  },
  {
   "cell_type": "code",
   "execution_count": 39,
   "metadata": {},
   "outputs": [
    {
     "name": "stdout",
     "output_type": "stream",
     "text": [
      "a) 48\n",
      "b) 2\n",
      "c) The ****** of this message is that it is ******.\n"
     ]
    }
   ],
   "source": [
    "##4.20\n",
    "s='The secret of this message is that it is secret.'\n",
    "a=len(s)\n",
    "print('a)',a)\n",
    "b=s.count('secret')\n",
    "print('b)',b)\n",
    "c=s.replace(\"secret\",\"******\")\n",
    "print('c)',c)"
   ]
  },
  {
   "cell_type": "code",
   "execution_count": 45,
   "metadata": {
    "scrolled": true
   },
   "outputs": [
    {
     "name": "stdout",
     "output_type": "stream",
     "text": [
      "a) It was the best of times  it was the worst of times  it was the age of wisdom  it was the age of foolishness  it was the epoch of belief  it was the epoch of incredulity  it was     \n",
      "\n",
      "\n",
      "b) It was the best of times  it was the worst of times  it was the age of wisdom  it was the age of foolishness  it was the epoch of belief  it was the epoch of incredulity  it was\n",
      "\n",
      "\n",
      "c) it was the best of times  it was the worst of times  it was the age of wisdom  it was the age of foolishness  it was the epoch of belief  it was the epoch of incredulity  it was     \n",
      "\n",
      "\n",
      "d) 6\n",
      "\n",
      "\n",
      "e) It is the best of times  it is the worst of times  it is the age of wisdom  it is the age of foolishness  it is the epoch of belief  it is the epoch of incredulity  it is     \n",
      "\n",
      "\n",
      "f) ['It', 'is', 'the', 'best', 'of', 'times', 'it', 'is', 'the', 'worst', 'of', 'times', 'it', 'is', 'the', 'age', 'of', 'wisdom', 'it', 'is', 'the', 'age', 'of', 'foolishness', 'it', 'is', 'the', 'epoch', 'of', 'belief', 'it', 'is', 'the', 'epoch', 'of', 'incredulity', 'it', 'is']\n"
     ]
    }
   ],
   "source": [
    "##4.21\n",
    "s = '''It was the best of times, it was the worst of times; it\n",
    "was the age of wisdom, it was the age of foolishness; it was the\n",
    "epoch of belief, it was the epoch of incredulity; it was ... '''\n",
    "\n",
    "table = s.maketrans( '.,;\\n','    ')\n",
    "tittle = s.translate(table)\n",
    "print('a)',tittle)\n",
    "print(\"\\n\")\n",
    "print('b)',tittle.strip())\n",
    "print(\"\\n\")\n",
    "print('c)',tittle.lower())\n",
    "print(\"\\n\")\n",
    "print('d)',tittle.count('it was'))\n",
    "tittle = tittle.replace('was','is')\n",
    "print(\"\\n\")\n",
    "print('e)',tittle)\n",
    "listS = tittle.split()\n",
    "print(\"\\n\")\n",
    "print('f)',listS)\n"
   ]
  },
  {
   "cell_type": "code",
   "execution_count": 58,
   "metadata": {},
   "outputs": [
    {
     "name": "stdout",
     "output_type": "stream",
     "text": [
      "a) Sigel, Marlena Mae\n",
      "b) Sigel, Marlena M.\n",
      "c) Marlena, Ma. Sigel\n",
      "d) M. M. Sigel\n",
      "e) Sigel, M.\n"
     ]
    }
   ],
   "source": [
    "##4.21\n",
    "first = 'Marlena'\n",
    "last = 'Sigel'\n",
    "middle = 'Mae'\n",
    "print(\"a) {1}, {0} {2}\".format(first,last,middle))\n",
    "print(\"b) {1}, {0} {2}.\".format(first,last,middle[0]))\n",
    "print(\"c) {0}, {2}. {1}\".format(first,last,middle[0:2]))\n",
    "print(\"d) {0}. {2}. {1}\".format(first[0],last,middle[0]))\n",
    "print(\"e) {1}, {0}.\".format(first[0],last))\n"
   ]
  },
  {
   "cell_type": "code",
   "execution_count": 59,
   "metadata": {},
   "outputs": [
    {
     "name": "stdout",
     "output_type": "stream",
     "text": [
      "from: tim@abc.com\n",
      "To : tom@xyz.org\n",
      "subject :Hello!\n"
     ]
    }
   ],
   "source": [
    "##4.23\n",
    "sender = 'tim@abc.com'\n",
    "recipient = 'tom@xyz.org'\n",
    "subject = 'Hello!'\n",
    "print(\"from: {0}\\nTo : {1}\\nsubject :{2}\".format(sender,recipient,subject))"
   ]
  },
  {
   "cell_type": "code",
   "execution_count": null,
   "metadata": {},
   "outputs": [],
   "source": [
    "\n"
   ]
  }
 ],
 "metadata": {
  "kernelspec": {
   "display_name": "Python 3",
   "language": "python",
   "name": "python3"
  },
  "language_info": {
   "codemirror_mode": {
    "name": "ipython",
    "version": 3
   },
   "file_extension": ".py",
   "mimetype": "text/x-python",
   "name": "python",
   "nbconvert_exporter": "python",
   "pygments_lexer": "ipython3",
   "version": "3.7.3"
  }
 },
 "nbformat": 4,
 "nbformat_minor": 2
}
